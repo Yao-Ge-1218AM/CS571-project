{
  "nbformat": 4,
  "nbformat_minor": 0,
  "metadata": {
    "colab": {
      "provenance": []
    },
    "kernelspec": {
      "display_name": "Python 3",
      "name": "python3"
    },
    "language_info": {
      "name": "python"
    }
  },
  "cells": [
    {
      "cell_type": "code",
      "metadata": {
        "id": "CkfPmpXkDGi9"
      },
      "source": [
        "import os\n",
        "import json\n",
        "import gzip\n",
        "import pandas as pd\n",
        "from urllib.request import urlopen"
      ],
      "execution_count": null,
      "outputs": []
    },
    {
      "cell_type": "code",
      "metadata": {
        "colab": {
          "base_uri": "https://localhost:8080/"
        },
        "id": "9um90jBkmWc_",
        "outputId": "6ba36163-cf66-4dce-970a-15836c5bfdc7"
      },
      "source": [
        "!wget http://snap.stanford.edu/data/amazon/productGraph/categoryFiles/meta_Books.json.gz"
      ],
      "execution_count": null,
      "outputs": [
        {
          "output_type": "stream",
          "text": [
            "--2021-04-28 05:13:06--  http://snap.stanford.edu/data/amazon/productGraph/categoryFiles/meta_Books.json.gz\n",
            "Resolving snap.stanford.edu (snap.stanford.edu)... 171.64.75.80\n",
            "Connecting to snap.stanford.edu (snap.stanford.edu)|171.64.75.80|:80... connected.\n",
            "HTTP request sent, awaiting response... 200 OK\n",
            "Length: 825767823 (788M) [application/x-gzip]\n",
            "Saving to: ‘meta_Books.json.gz’\n",
            "\n",
            "meta_Books.json.gz  100%[===================>] 787.51M  10.4MB/s    in 4m 13s  \n",
            "\n",
            "2021-04-28 05:17:20 (3.11 MB/s) - ‘meta_Books.json.gz’ saved [825767823/825767823]\n",
            "\n"
          ],
          "name": "stdout"
        }
      ]
    },
    {
      "cell_type": "code",
      "metadata": {
        "id": "_h_meseNXE2Q"
      },
      "source": [
        "import gzip\n",
        "import json\n",
        "\n",
        "def un_gz(file_name):\n",
        "\n",
        "    # 获取文件的名称，去掉后缀名\n",
        "    f_name = file_name.replace(\".gz\", \"\")\n",
        "    # 开始解压\n",
        "    g_file = gzip.GzipFile(file_name)\n",
        "    #读取解压后的文件，并写入去掉后缀名的同名文件（即得到解压后的文件）\n",
        "    open(f_name, \"wb+\").write(g_file.read())\n",
        "    g_file.close()\n",
        "\n",
        "un_gz('/content/meta_Books.json.gz')\n",
        "\n"
      ],
      "execution_count": null,
      "outputs": []
    },
    {
      "cell_type": "code",
      "metadata": {
        "colab": {
          "background_save": true
        },
        "id": "6QlJBc5vYMtd",
        "outputId": "275dd541-1d64-4c95-c13f-2e798a2c863a"
      },
      "source": [
        "data = []\n",
        "\n",
        "with open('/content/meta_Books.json','r') as f:\n",
        "  for l in f:\n",
        "    #print(l)\n",
        "    data.append(json.dumps(l.strip()))\n",
        "\n",
        "print(len(data))\n",
        "\n",
        "# first row of the list\n",
        "print(data[0])\n",
        "\n",
        "pd.set_option('display.max_columns', None)\n",
        "#显示所有行\n",
        "pd.set_option('display.max_rows', None)\n",
        "#设置value的显示长度为100，默认为50\n",
        "pd.set_option('max_colwidth',500)"
      ],
      "execution_count": null,
      "outputs": [
        {
          "output_type": "stream",
          "text": [
            "2370585\n",
            "\"{'asin': '0001048791', 'salesRank': {'Books': 6334800}, 'imUrl': 'http://ecx.images-amazon.com/images/I/51MKP0T4DBL.jpg', 'categories': [['Books']], 'title': 'The Crucible: Performed by Stuart Pankin, Jerome Dempsey &amp; Cast'}\"\n"
          ],
          "name": "stdout"
        }
      ]
    },
    {
      "cell_type": "code",
      "metadata": {
        "colab": {
          "base_uri": "https://localhost:8080/"
        },
        "id": "Lm0vyGd_YgPK",
        "outputId": "a6ac5a43-cccb-4012-cb7a-352024f3cc14"
      },
      "source": [
        "import re\n",
        "\n",
        "The_Silver_Star = []\n",
        "redeployment = []\n",
        "\"\"\"The_Sun_and_Her_Flowers = []\n",
        "The_Rosie_Project = []\n",
        "Swing_Time = []\n",
        "The_Long_Way_Home = []\n",
        "The_Nix = []\n",
        "NOS4A2 = []\n",
        "Midnight_in_Europe = []\n",
        "Presumed_Innocent = []\"\"\"\n",
        "\n",
        "for i in range(len(data)):\n",
        "  b = eval(data[i])\n",
        "  xx = eval(b)\n",
        "  if('title' in xx.keys()):\n",
        "    m = re.search('the silver star',xx['title'], re.IGNORECASE)\n",
        "    #string = 'Circe'\n",
        "    #if(string.lower()==xx['title'].lower()):\n",
        "    if(bool(m)):\n",
        "      The_Silver_Star.append(xx)\n",
        "      print('0')\n",
        "    m1 = re.search('redeployment',xx['title'], re.IGNORECASE)\n",
        "    if(bool(m1)):\n",
        "      redeployment.append(xx)\n",
        "      print('1')\n",
        "    \"\"\"m2 = re.search('The Sun and Her Flowers',xx['title'], re.IGNORECASE)\n",
        "    if(bool(m2)):\n",
        "      The_Sun_and_Her_Flowers.append(xx)\n",
        "      print('2')\n",
        "    m3 = re.search('The Rosie Project',xx['title'], re.IGNORECASE)\n",
        "    if(bool(m3)):\n",
        "      The_Rosie_Project.append(xx)\n",
        "      print('3')\n",
        "    m4 = re.search('Swing Time',xx['title'], re.IGNORECASE)\n",
        "    if(bool(m4)):\n",
        "      Swing_Time.append(xx)\n",
        "      print('4')\n",
        "    m5 = re.search('The Long Way Home',xx['title'], re.IGNORECASE)\n",
        "    if(bool(m5)):\n",
        "      The_Long_Way_Home.append(xx)\n",
        "      print('5')\n",
        "    m6 = re.search('The Nix',xx['title'], re.IGNORECASE)\n",
        "    if(bool(m6)):\n",
        "      The_Nix.append(xx)\n",
        "      print('6')\n",
        "    m7 = re.search('NOS4A2',xx['title'], re.IGNORECASE)\n",
        "    if(bool(m7)):\n",
        "      NOS4A2.append(xx)\n",
        "      print('7')\n",
        "    m8 = re.search('Midnight in Europe',xx['title'], re.IGNORECASE)\n",
        "    if(bool(m8)):\n",
        "      Midnight_in_Europe.append(xx)\n",
        "      print('8')\n",
        "    m9 = re.search('Presumed Innocent',xx['title'], re.IGNORECASE)\n",
        "    if(bool(m9)):\n",
        "      Presumed_Innocent.append(xx)\n",
        "      print('9')\"\"\"\n"
      ],
      "execution_count": null,
      "outputs": [
        {
          "output_type": "stream",
          "text": [
            "0\n",
            "0\n",
            "0\n",
            "0\n",
            "0\n",
            "0\n",
            "0\n",
            "0\n",
            "0\n",
            "0\n",
            "0\n",
            "0\n",
            "1\n",
            "0\n"
          ],
          "name": "stdout"
        }
      ]
    },
    {
      "cell_type": "code",
      "metadata": {
        "id": "w0S5vENuowtG",
        "colab": {
          "base_uri": "https://localhost:8080/",
          "height": 119
        },
        "outputId": "24b5ad99-3491-4aef-b0d9-588ab42beb84"
      },
      "source": [
        "with open('/content/The_Silver_Star.txt','w') as wf:\n",
        "  wf.write(str(The_Silver_Star))\n",
        "with open('/content/redeployment.txt','w') as wf1:\n",
        "  wf1.write(str(redeployment))\n",
        "\"\"\"with open('/content/book_review/The_Sun_and_Her_Flowers.txt','w') as wf2:\n",
        "  wf2.write(str(The_Sun_and_Her_Flowers))\n",
        "with open('/content/book_review/The_Rosie_Project.txt','w') as wf3:\n",
        "  wf3.write(str(The_Rosie_Project))\n",
        "with open('/content/book_review/Swing_Time.txt','w') as wf4:\n",
        "  wf4.write(str(Swing_Time))\n",
        "with open('/content/book_review/The_Nix.txt','w') as wf5:\n",
        "  wf5.write(str(The_Nix))\n",
        "with open('/content/book_review/NOS4A2.txt','w') as wf6:\n",
        "  wf6.write(str(NOS4A2))\n",
        "with open('/content/book_review/Midnight_in_Europe.txt','w') as wf7:\n",
        "  wf7.write(str(Midnight_in_Europe))\n",
        "with open('/content/book_review/Presumed_Innocent.txt','w') as wf8:\n",
        "  wf8.write(str(Presumed_Innocent))\n",
        "with open('/content/book_review/The_Summer_Before_the_War.txt','w') as wf9:\n",
        "  wf9.write(str(The_Summer_Before_the_War))\"\"\""
      ],
      "execution_count": null,
      "outputs": [
        {
          "output_type": "execute_result",
          "data": {
            "application/vnd.google.colaboratory.intrinsic+json": {
              "type": "string"
            },
            "text/plain": [
              "\"with open('/content/book_review/The_Sun_and_Her_Flowers.txt','w') as wf2:\\n  wf2.write(str(The_Sun_and_Her_Flowers))\\nwith open('/content/book_review/The_Rosie_Project.txt','w') as wf3:\\n  wf3.write(str(The_Rosie_Project))\\nwith open('/content/book_review/Swing_Time.txt','w') as wf4:\\n  wf4.write(str(Swing_Time))\\nwith open('/content/book_review/The_Nix.txt','w') as wf5:\\n  wf5.write(str(The_Nix))\\nwith open('/content/book_review/NOS4A2.txt','w') as wf6:\\n  wf6.write(str(NOS4A2))\\nwith open('/content/book_review/Midnight_in_Europe.txt','w') as wf7:\\n  wf7.write(str(Midnight_in_Europe))\\nwith open('/content/book_review/Presumed_Innocent.txt','w') as wf8:\\n  wf8.write(str(Presumed_Innocent))\\nwith open('/content/book_review/The_Summer_Before_the_War.txt','w') as wf9:\\n  wf9.write(str(The_Summer_Before_the_War))\""
            ]
          },
          "metadata": {
            "tags": []
          },
          "execution_count": 9
        }
      ]
    },
    {
      "cell_type": "code",
      "metadata": {
        "colab": {
          "base_uri": "https://localhost:8080/"
        },
        "id": "y8fiF0vGpRKG",
        "outputId": "5fd3a822-a06a-4541-e9b8-43091d56aadb"
      },
      "source": [
        "!tar zcvf book_review.tar.gz book_review/"
      ],
      "execution_count": null,
      "outputs": [
        {
          "output_type": "stream",
          "text": [
            "book_review/\n",
            "book_review/God_Help_the_Child.txt\n",
            "book_review/Seveneves.txt\n",
            "book_review/The_Children_Act.txt\n",
            "book_review/Life_After_Life.txt\n",
            "book_review/Swing_Time.txt\n",
            "book_review/Finders_Keepers.txt\n",
            "book_review/The_Burgess_Boys.txt\n",
            "book_review/The_Summer_Before_the_War.txt\n",
            "book_review/Midnight_in_Europe.txt\n",
            "book_review/Doctor_Sleep.txt\n",
            "book_review/The_Valley_of_Amazement.txt\n",
            "book_review/Still_Life_With_Bread_Crumbs.txt\n",
            "book_review/A_Cairo_Affair.txt\n",
            "book_review/The_Girls.txt\n",
            "book_review/Inferno.txt\n",
            "book_review/The_Invention_of_Wings.txt\n",
            "book_review/Trigger_Warning.txt\n",
            "book_review/The_Outsider.txt\n",
            "book_review/The_Sellout.txt\n",
            "book_review/Before_the_Fall.txt\n",
            "book_review/Revival.txt\n",
            "book_review/My_Struggle.txt\n",
            "book_review/Joyland.txt\n",
            "book_review/End_of_Watch.txt\n",
            "book_review/Tenth_of_December.txt\n",
            "book_review/The_Lowland.txt\n",
            "book_review/The_Circle.txt\n",
            "book_review/The_Signature_of_All_Things.txt\n",
            "book_review/Fates_and_Furies.txt\n",
            "book_review/The_Girl_on_the_Train.txt\n",
            "book_review/The_Silkworm.txt\n",
            "book_review/Tatiana.txt\n",
            "book_review/Sweetbitter.txt\n",
            "book_review/The_Rosie_Project.txt\n",
            "book_review/Moonglow.txt\n",
            "book_review/The_Glass_Castle.txt\n",
            "book_review/The_Spy_Who_Came_In_From_the_Cold.txt\n",
            "book_review/Circe.txt\n",
            "book_review/Everybody_Fool.txt\n",
            "book_review/Warlight.txt\n",
            "book_review/Bleeding_Edge.txt\n",
            "book_review/The_Stone_Sky.txt\n",
            "book_review/In_My_Skin.txt\n",
            "book_review/Norse_Mythology.txt\n",
            "book_review/Everything_I_Never_Told_You.txt\n",
            "book_review/The_Things_They_Carried.txt\n",
            "book_review/Lila.txt\n",
            "book_review/The_Luminaries.txt\n",
            "book_review/The_Sun_and_Her_Flowers.txt\n",
            "book_review/Presumed_Innocent.txt\n",
            "book_review/LaROSE.txt\n",
            "book_review/Testimony.txt\n",
            "book_review/NOS4A2.txt\n",
            "book_review/Less.txt\n",
            "book_review/A_Delicate_Truth.txt\n",
            "book_review/The_Buried_Giant.txt\n",
            "book_review/Palace_of_Treason.txt\n",
            "book_review/The_Long_Way_Home.txt\n",
            "book_review/And_the_Mountains_Echoed.txt\n",
            "book_review/The_Nix.txt\n",
            "book_review/BAD_MONKEY.txt\n",
            "book_review/The_Marriage_of_Opposites.txt\n",
            "book_review/The_Fixer.txt\n",
            "book_review/Miller_Valley.txt\n",
            "book_review/The_Secret_Place.txt\n"
          ],
          "name": "stdout"
        }
      ]
    }
  ]
}